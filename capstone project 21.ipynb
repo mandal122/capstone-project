{
 "cells": [
  {
   "cell_type": "code",
   "execution_count": 68,
   "id": "c9d096b6",
   "metadata": {},
   "outputs": [],
   "source": [
    "# importing necessary libraries\n",
    "import numpy\n",
    "import pandas as pd\n",
    "import seaborn\n",
    "import matplotlib.pyplot as plt  \n",
    "from sklearn.preprocessing import LabelEncoder\n",
    "from sklearn.preprocessing import OneHotEncoder\n",
    "from sklearn.preprocessing import OrdinalEncoder\n",
    "from sklearn.model_selection import train_test_split\n",
    "import category_encoders as ce\n",
    "\n",
    "\n"
   ]
  },
  {
   "cell_type": "code",
   "execution_count": 69,
   "id": "95381014",
   "metadata": {},
   "outputs": [],
   "source": [
    "import warnings\n",
    "warnings.filterwarnings('ignore')"
   ]
  },
  {
   "cell_type": "code",
   "execution_count": 70,
   "id": "9e25d03f",
   "metadata": {},
   "outputs": [],
   "source": [
    "# loading the dataset\n",
    "covid = pandas.read_csv('corona_tested_006.csv')\n"
   ]
  },
  {
   "cell_type": "code",
   "execution_count": 71,
   "id": "947cb039",
   "metadata": {},
   "outputs": [
    {
     "data": {
      "text/html": [
       "<div>\n",
       "<style scoped>\n",
       "    .dataframe tbody tr th:only-of-type {\n",
       "        vertical-align: middle;\n",
       "    }\n",
       "\n",
       "    .dataframe tbody tr th {\n",
       "        vertical-align: top;\n",
       "    }\n",
       "\n",
       "    .dataframe thead th {\n",
       "        text-align: right;\n",
       "    }\n",
       "</style>\n",
       "<table border=\"1\" class=\"dataframe\">\n",
       "  <thead>\n",
       "    <tr style=\"text-align: right;\">\n",
       "      <th></th>\n",
       "      <th>Ind_ID</th>\n",
       "      <th>Test_date</th>\n",
       "      <th>Cough_symptoms</th>\n",
       "      <th>Fever</th>\n",
       "      <th>Sore_throat</th>\n",
       "      <th>Shortness_of_breath</th>\n",
       "      <th>Headache</th>\n",
       "      <th>Corona</th>\n",
       "      <th>Age_60_above</th>\n",
       "      <th>Sex</th>\n",
       "      <th>Known_contact</th>\n",
       "    </tr>\n",
       "  </thead>\n",
       "  <tbody>\n",
       "    <tr>\n",
       "      <th>0</th>\n",
       "      <td>1</td>\n",
       "      <td>11-03-2020</td>\n",
       "      <td>TRUE</td>\n",
       "      <td>FALSE</td>\n",
       "      <td>TRUE</td>\n",
       "      <td>FALSE</td>\n",
       "      <td>FALSE</td>\n",
       "      <td>negative</td>\n",
       "      <td>None</td>\n",
       "      <td>None</td>\n",
       "      <td>Abroad</td>\n",
       "    </tr>\n",
       "    <tr>\n",
       "      <th>1</th>\n",
       "      <td>2</td>\n",
       "      <td>11-03-2020</td>\n",
       "      <td>FALSE</td>\n",
       "      <td>TRUE</td>\n",
       "      <td>FALSE</td>\n",
       "      <td>FALSE</td>\n",
       "      <td>FALSE</td>\n",
       "      <td>positive</td>\n",
       "      <td>None</td>\n",
       "      <td>None</td>\n",
       "      <td>Abroad</td>\n",
       "    </tr>\n",
       "    <tr>\n",
       "      <th>2</th>\n",
       "      <td>3</td>\n",
       "      <td>11-03-2020</td>\n",
       "      <td>FALSE</td>\n",
       "      <td>TRUE</td>\n",
       "      <td>FALSE</td>\n",
       "      <td>FALSE</td>\n",
       "      <td>FALSE</td>\n",
       "      <td>positive</td>\n",
       "      <td>None</td>\n",
       "      <td>None</td>\n",
       "      <td>Abroad</td>\n",
       "    </tr>\n",
       "    <tr>\n",
       "      <th>3</th>\n",
       "      <td>4</td>\n",
       "      <td>11-03-2020</td>\n",
       "      <td>TRUE</td>\n",
       "      <td>FALSE</td>\n",
       "      <td>FALSE</td>\n",
       "      <td>FALSE</td>\n",
       "      <td>FALSE</td>\n",
       "      <td>negative</td>\n",
       "      <td>None</td>\n",
       "      <td>None</td>\n",
       "      <td>Abroad</td>\n",
       "    </tr>\n",
       "    <tr>\n",
       "      <th>4</th>\n",
       "      <td>5</td>\n",
       "      <td>11-03-2020</td>\n",
       "      <td>TRUE</td>\n",
       "      <td>FALSE</td>\n",
       "      <td>FALSE</td>\n",
       "      <td>FALSE</td>\n",
       "      <td>FALSE</td>\n",
       "      <td>negative</td>\n",
       "      <td>None</td>\n",
       "      <td>None</td>\n",
       "      <td>Contact with confirmed</td>\n",
       "    </tr>\n",
       "  </tbody>\n",
       "</table>\n",
       "</div>"
      ],
      "text/plain": [
       "   Ind_ID   Test_date Cough_symptoms  Fever Sore_throat Shortness_of_breath  \\\n",
       "0       1  11-03-2020           TRUE  FALSE        TRUE               FALSE   \n",
       "1       2  11-03-2020          FALSE   TRUE       FALSE               FALSE   \n",
       "2       3  11-03-2020          FALSE   TRUE       FALSE               FALSE   \n",
       "3       4  11-03-2020           TRUE  FALSE       FALSE               FALSE   \n",
       "4       5  11-03-2020           TRUE  FALSE       FALSE               FALSE   \n",
       "\n",
       "  Headache    Corona Age_60_above   Sex           Known_contact  \n",
       "0    FALSE  negative         None  None                  Abroad  \n",
       "1    FALSE  positive         None  None                  Abroad  \n",
       "2    FALSE  positive         None  None                  Abroad  \n",
       "3    FALSE  negative         None  None                  Abroad  \n",
       "4    FALSE  negative         None  None  Contact with confirmed  "
      ]
     },
     "execution_count": 71,
     "metadata": {},
     "output_type": "execute_result"
    }
   ],
   "source": [
    "covid.head()"
   ]
  },
  {
   "cell_type": "code",
   "execution_count": 72,
   "id": "9ff17a45",
   "metadata": {},
   "outputs": [
    {
     "data": {
      "text/html": [
       "<div>\n",
       "<style scoped>\n",
       "    .dataframe tbody tr th:only-of-type {\n",
       "        vertical-align: middle;\n",
       "    }\n",
       "\n",
       "    .dataframe tbody tr th {\n",
       "        vertical-align: top;\n",
       "    }\n",
       "\n",
       "    .dataframe thead th {\n",
       "        text-align: right;\n",
       "    }\n",
       "</style>\n",
       "<table border=\"1\" class=\"dataframe\">\n",
       "  <thead>\n",
       "    <tr style=\"text-align: right;\">\n",
       "      <th></th>\n",
       "      <th>Ind_ID</th>\n",
       "      <th>Test_date</th>\n",
       "      <th>Cough_symptoms</th>\n",
       "      <th>Fever</th>\n",
       "      <th>Sore_throat</th>\n",
       "      <th>Shortness_of_breath</th>\n",
       "      <th>Headache</th>\n",
       "      <th>Corona</th>\n",
       "      <th>Age_60_above</th>\n",
       "      <th>Sex</th>\n",
       "      <th>Known_contact</th>\n",
       "    </tr>\n",
       "  </thead>\n",
       "  <tbody>\n",
       "    <tr>\n",
       "      <th>278843</th>\n",
       "      <td>278844</td>\n",
       "      <td>30-04-2020</td>\n",
       "      <td>False</td>\n",
       "      <td>False</td>\n",
       "      <td>False</td>\n",
       "      <td>False</td>\n",
       "      <td>False</td>\n",
       "      <td>positive</td>\n",
       "      <td>None</td>\n",
       "      <td>male</td>\n",
       "      <td>Other</td>\n",
       "    </tr>\n",
       "    <tr>\n",
       "      <th>278844</th>\n",
       "      <td>278845</td>\n",
       "      <td>30-04-2020</td>\n",
       "      <td>False</td>\n",
       "      <td>False</td>\n",
       "      <td>False</td>\n",
       "      <td>False</td>\n",
       "      <td>False</td>\n",
       "      <td>negative</td>\n",
       "      <td>None</td>\n",
       "      <td>female</td>\n",
       "      <td>Other</td>\n",
       "    </tr>\n",
       "    <tr>\n",
       "      <th>278845</th>\n",
       "      <td>278846</td>\n",
       "      <td>30-04-2020</td>\n",
       "      <td>False</td>\n",
       "      <td>False</td>\n",
       "      <td>False</td>\n",
       "      <td>False</td>\n",
       "      <td>False</td>\n",
       "      <td>negative</td>\n",
       "      <td>None</td>\n",
       "      <td>male</td>\n",
       "      <td>Other</td>\n",
       "    </tr>\n",
       "    <tr>\n",
       "      <th>278846</th>\n",
       "      <td>278847</td>\n",
       "      <td>30-04-2020</td>\n",
       "      <td>False</td>\n",
       "      <td>False</td>\n",
       "      <td>False</td>\n",
       "      <td>False</td>\n",
       "      <td>False</td>\n",
       "      <td>negative</td>\n",
       "      <td>None</td>\n",
       "      <td>male</td>\n",
       "      <td>Other</td>\n",
       "    </tr>\n",
       "    <tr>\n",
       "      <th>278847</th>\n",
       "      <td>278848</td>\n",
       "      <td>30-04-2020</td>\n",
       "      <td>False</td>\n",
       "      <td>False</td>\n",
       "      <td>False</td>\n",
       "      <td>False</td>\n",
       "      <td>False</td>\n",
       "      <td>negative</td>\n",
       "      <td>None</td>\n",
       "      <td>female</td>\n",
       "      <td>Other</td>\n",
       "    </tr>\n",
       "  </tbody>\n",
       "</table>\n",
       "</div>"
      ],
      "text/plain": [
       "        Ind_ID   Test_date Cough_symptoms  Fever Sore_throat  \\\n",
       "278843  278844  30-04-2020          False  False       False   \n",
       "278844  278845  30-04-2020          False  False       False   \n",
       "278845  278846  30-04-2020          False  False       False   \n",
       "278846  278847  30-04-2020          False  False       False   \n",
       "278847  278848  30-04-2020          False  False       False   \n",
       "\n",
       "       Shortness_of_breath Headache    Corona Age_60_above     Sex  \\\n",
       "278843               False    False  positive         None    male   \n",
       "278844               False    False  negative         None  female   \n",
       "278845               False    False  negative         None    male   \n",
       "278846               False    False  negative         None    male   \n",
       "278847               False    False  negative         None  female   \n",
       "\n",
       "       Known_contact  \n",
       "278843         Other  \n",
       "278844         Other  \n",
       "278845         Other  \n",
       "278846         Other  \n",
       "278847         Other  "
      ]
     },
     "execution_count": 72,
     "metadata": {},
     "output_type": "execute_result"
    }
   ],
   "source": [
    "covid.tail()"
   ]
  },
  {
   "cell_type": "code",
   "execution_count": 73,
   "id": "7333e273",
   "metadata": {},
   "outputs": [],
   "source": [
    "# defining a function to convert the data\n",
    "def convert(x):\n",
    "    if x=='TRUE':\n",
    "        return 'true'\n",
    "    elif x==True:\n",
    "        return 'true'\n",
    "    elif x=='FALSE' or x==False:\n",
    "        return 'false'\n",
    "    else:\n",
    "        return x"
   ]
  },
  {
   "cell_type": "code",
   "execution_count": 74,
   "id": "364d5fec",
   "metadata": {},
   "outputs": [],
   "source": [
    "# mapping the function\n",
    "\n",
    "covid['Cough_symptoms'] = covid['Cough_symptoms'].map(convert)\n",
    "covid['Fever'] = covid['Fever'].map(convert)\n",
    "covid['Sore_throat'] = covid['Sore_throat'].map(convert)\n",
    "covid['Shortness_of_breath'] = covid['Shortness_of_breath'].map(convert)\n",
    "covid['Headache'] = covid['Headache'].map(convert)"
   ]
  },
  {
   "cell_type": "code",
   "execution_count": 75,
   "id": "309dd4ff",
   "metadata": {},
   "outputs": [],
   "source": [
    "# renaming a column\n",
    "covid.rename(columns={'Sex':'Gender'},inplace=True)"
   ]
  },
  {
   "cell_type": "code",
   "execution_count": 76,
   "id": "445cd364",
   "metadata": {},
   "outputs": [
    {
     "name": "stdout",
     "output_type": "stream",
     "text": [
      "<class 'pandas.core.frame.DataFrame'>\n",
      "RangeIndex: 278848 entries, 0 to 278847\n",
      "Data columns (total 11 columns):\n",
      " #   Column               Non-Null Count   Dtype \n",
      "---  ------               --------------   ----- \n",
      " 0   Ind_ID               278848 non-null  int64 \n",
      " 1   Test_date            278848 non-null  object\n",
      " 2   Cough_symptoms       278848 non-null  object\n",
      " 3   Fever                278848 non-null  object\n",
      " 4   Sore_throat          278848 non-null  object\n",
      " 5   Shortness_of_breath  278848 non-null  object\n",
      " 6   Headache             278848 non-null  object\n",
      " 7   Corona               278848 non-null  object\n",
      " 8   Age_60_above         278848 non-null  object\n",
      " 9   Gender               278848 non-null  object\n",
      " 10  Known_contact        278848 non-null  object\n",
      "dtypes: int64(1), object(10)\n",
      "memory usage: 23.4+ MB\n"
     ]
    }
   ],
   "source": [
    "covid.info()"
   ]
  },
  {
   "cell_type": "code",
   "execution_count": 77,
   "id": "834c693d",
   "metadata": {},
   "outputs": [],
   "source": [
    "covid.replace({'None':numpy.nan},inplace=True)"
   ]
  },
  {
   "cell_type": "code",
   "execution_count": 78,
   "id": "7205878e",
   "metadata": {},
   "outputs": [
    {
     "data": {
      "text/plain": [
       "Ind_ID                      0\n",
       "Test_date                   0\n",
       "Cough_symptoms            252\n",
       "Fever                     252\n",
       "Sore_throat                 1\n",
       "Shortness_of_breath         1\n",
       "Headache                    1\n",
       "Corona                      0\n",
       "Age_60_above           127320\n",
       "Gender                  19563\n",
       "Known_contact               0\n",
       "dtype: int64"
      ]
     },
     "execution_count": 78,
     "metadata": {},
     "output_type": "execute_result"
    }
   ],
   "source": [
    "# Finding the total null values\n",
    "covid.isnull().sum()"
   ]
  },
  {
   "cell_type": "code",
   "execution_count": 79,
   "id": "d773e067",
   "metadata": {},
   "outputs": [
    {
     "name": "stdout",
     "output_type": "stream",
     "text": [
      "Ind_ID has 0.0 %\n",
      "Test_date has 0.0 %\n",
      "Cough_symptoms has 0.09037 %\n",
      "Fever has 0.09037 %\n",
      "Sore_throat has 0.00036 %\n",
      "Shortness_of_breath has 0.00036 %\n",
      "Headache has 0.00036 %\n",
      "Corona has 0.0 %\n",
      "Age_60_above has 45.65928 %\n",
      "Gender has 7.01565 %\n",
      "Known_contact has 0.0 %\n"
     ]
    }
   ],
   "source": [
    "for i in covid.columns:\n",
    "    print(f\"{i} has\",round(covid[i].isnull().sum()*100/covid.shape[0],5),\"%\")"
   ]
  },
  {
   "cell_type": "code",
   "execution_count": 80,
   "id": "538a20ec",
   "metadata": {},
   "outputs": [],
   "source": [
    "# dropping nan rows for columns having less than 1% nan\n",
    "covid.dropna(subset=['Cough_symptoms','Fever','Sore_throat','Shortness_of_breath','Headache'],axis=0,inplace=True)"
   ]
  },
  {
   "cell_type": "code",
   "execution_count": 81,
   "id": "b83370f7",
   "metadata": {},
   "outputs": [],
   "source": [
    "# drop age_60_above column \n",
    "covid.drop('Age_60_above',axis=1,inplace=True)"
   ]
  },
  {
   "cell_type": "code",
   "execution_count": 82,
   "id": "5cf273f9",
   "metadata": {},
   "outputs": [],
   "source": [
    "covid.replace({'other':numpy.nan},inplace=True)"
   ]
  },
  {
   "cell_type": "code",
   "execution_count": 83,
   "id": "54bcf17b",
   "metadata": {},
   "outputs": [],
   "source": [
    "covid.dropna(subset=['Corona'],axis=0,inplace=True)"
   ]
  },
  {
   "cell_type": "code",
   "execution_count": 84,
   "id": "09e5f507",
   "metadata": {},
   "outputs": [],
   "source": [
    "# converting the datatype as categorical\n",
    "for i in covid.columns:\n",
    "    if i=='Ind_ID' or i == 'Test_date' or i == 'Test_date':\n",
    "        pass\n",
    "    else:\n",
    "        covid[i] = covid[i].astype('category')"
   ]
  },
  {
   "cell_type": "code",
   "execution_count": 85,
   "id": "be383409",
   "metadata": {},
   "outputs": [
    {
     "name": "stdout",
     "output_type": "stream",
     "text": [
      "<class 'pandas.core.frame.DataFrame'>\n",
      "Int64Index: 274702 entries, 0 to 278847\n",
      "Data columns (total 10 columns):\n",
      " #   Column               Non-Null Count   Dtype   \n",
      "---  ------               --------------   -----   \n",
      " 0   Ind_ID               274702 non-null  int64   \n",
      " 1   Test_date            274702 non-null  object  \n",
      " 2   Cough_symptoms       274702 non-null  category\n",
      " 3   Fever                274702 non-null  category\n",
      " 4   Sore_throat          274702 non-null  category\n",
      " 5   Shortness_of_breath  274702 non-null  category\n",
      " 6   Headache             274702 non-null  category\n",
      " 7   Corona               274702 non-null  category\n",
      " 8   Gender               255668 non-null  category\n",
      " 9   Known_contact        274702 non-null  category\n",
      "dtypes: category(8), int64(1), object(1)\n",
      "memory usage: 8.4+ MB\n"
     ]
    }
   ],
   "source": [
    "covid.info()"
   ]
  },
  {
   "cell_type": "code",
   "execution_count": 86,
   "id": "b101a1b1",
   "metadata": {},
   "outputs": [
    {
     "data": {
      "image/png": "[encoded data removed]",
      "text/plain": [
       "<Figure size 400x300 with 1 Axes>"
      ]
     },
     "metadata": {},
     "output_type": "display_data"
    }
   ],
   "source": [
    "#univatiate analysis\n",
    "\n",
    "plt.figure(figsize=(4,3))\n",
    "seaborn.countplot(x='Cough_symptoms',hue='Corona',data=covid,width=0.4)\n",
    "plt.show()"
   ]
  },
  {
   "cell_type": "code",
   "execution_count": 87,
   "id": "0590173b",
   "metadata": {},
   "outputs": [
    {
     "data": {
      "image/png": "[encoded data removed]",
      "text/plain": [
       "<Figure size 400x300 with 1 Axes>"
      ]
     },
     "metadata": {},
     "output_type": "display_data"
    }
   ],
   "source": [
    "plt.figure(figsize=(4,3))\n",
    "seaborn.countplot(x='Fever',hue='Corona',data=covid,width=0.4)\n",
    "plt.show()"
   ]
  },
  {
   "cell_type": "code",
   "execution_count": 88,
   "id": "dfd13939",
   "metadata": {},
   "outputs": [
    {
     "data": {
      "image/png": "[encoded data removed]",
      "text/plain": [
       "<Figure size 400x300 with 1 Axes>"
      ]
     },
     "metadata": {},
     "output_type": "display_data"
    }
   ],
   "source": [
    "plt.figure(figsize=(4,3))\n",
    "seaborn.countplot(x='Sore_throat',hue='Corona',data=covid,width=0.4)\n",
    "plt.show()\n"
   ]
  },
  {
   "cell_type": "code",
   "execution_count": 89,
   "id": "9f119088",
   "metadata": {},
   "outputs": [
    {
     "data": {
      "image/png": "[encoded data removed]",
      "text/plain": [
       "<Figure size 400x300 with 1 Axes>"
      ]
     },
     "metadata": {},
     "output_type": "display_data"
    }
   ],
   "source": [
    "plt.figure(figsize=(4,3))\n",
    "seaborn.countplot(x='Shortness_of_breath',hue='Corona',data=covid,width=0.4)\n",
    "plt.show()\n"
   ]
  },
  {
   "cell_type": "code",
   "execution_count": 90,
   "id": "67fe7c4b",
   "metadata": {},
   "outputs": [
    {
     "data": {
      "image/png": "[encoded data removed]",
      "text/plain": [
       "<Figure size 400x300 with 1 Axes>"
      ]
     },
     "metadata": {},
     "output_type": "display_data"
    }
   ],
   "source": [
    "plt.figure(figsize=(4,3))\n",
    "seaborn.countplot(x='Headache',hue='Corona',data=covid,width=0.4)\n",
    "plt.show()"
   ]
  },
  {
   "cell_type": "code",
   "execution_count": 91,
   "id": "fa9a1f92",
   "metadata": {},
   "outputs": [
    {
     "data": {
      "image/png": "[encoded data removed]",
      "text/plain": [
       "<Figure size 400x300 with 1 Axes>"
      ]
     },
     "metadata": {},
     "output_type": "display_data"
    }
   ],
   "source": [
    "plt.figure(figsize=(4,3))\n",
    "seaborn.countplot(x='Gender',hue='Corona',data=covid,width=0.4)\n",
    "plt.show()"
   ]
  },
  {
   "cell_type": "code",
   "execution_count": 92,
   "id": "86367465",
   "metadata": {},
   "outputs": [
    {
     "data": {
      "image/png": "[encoded data removed]",
      "text/plain": [
       "<Figure size 400x300 with 1 Axes>"
      ]
     },
     "metadata": {},
     "output_type": "display_data"
    }
   ],
   "source": [
    "plt.figure(figsize=(4,3))\n",
    "seaborn.countplot(x='Known_contact',hue='Corona',data=covid,width=0.4)\n",
    "plt.show()"
   ]
  },
  {
   "cell_type": "code",
   "execution_count": 93,
   "id": "f01ffcbe",
   "metadata": {},
   "outputs": [
    {
     "data": {
      "text/plain": [
       "Ind_ID                     0\n",
       "Test_date                  0\n",
       "Cough_symptoms             0\n",
       "Fever                      0\n",
       "Sore_throat                0\n",
       "Shortness_of_breath        0\n",
       "Headache                   0\n",
       "Corona                     0\n",
       "Gender                 19034\n",
       "Known_contact              0\n",
       "dtype: int64"
      ]
     },
     "execution_count": 93,
     "metadata": {},
     "output_type": "execute_result"
    }
   ],
   "source": [
    "covid.isnull().sum()"
   ]
  },
  {
   "cell_type": "code",
   "execution_count": 94,
   "id": "3ae98f8f",
   "metadata": {},
   "outputs": [],
   "source": [
    "covid_data=covid.copy(deep=True)"
   ]
  },
  {
   "cell_type": "code",
   "execution_count": 95,
   "id": "33ed5e77",
   "metadata": {},
   "outputs": [],
   "source": [
    "# Encoding\n",
    "covid_data['Cough_symptoms']=pandas.get_dummies(covid_data['Cough_symptoms'],drop_first=True)\n",
    "covid_data['Fever']=pandas.get_dummies(covid_data['Fever'],drop_first=True)\n",
    "covid_data['Sore_throat']=pandas.get_dummies(covid_data['Sore_throat'],drop_first=True)\n",
    "covid_data['Shortness_of_breath']=pandas.get_dummies(covid_data['Shortness_of_breath'],drop_first=True)\n",
    "covid_data['Headache']=pandas.get_dummies(covid_data['Headache'],drop_first=True)\n",
    "covid_data['Corona']=pandas.get_dummies(covid_data['Corona'],drop_first=True)"
   ]
  },
  {
   "cell_type": "code",
   "execution_count": 96,
   "id": "a73b5b98",
   "metadata": {},
   "outputs": [],
   "source": [
    "covid_data['Gender'].replace({'male':0,'female':1},inplace=True)\n",
    "covid_data['Known_contact'].replace({'Other':2,'Contact with confirmed':1,'Abroad':0},inplace=True)"
   ]
  },
  {
   "cell_type": "code",
   "execution_count": 97,
   "id": "10f5f277",
   "metadata": {},
   "outputs": [
    {
     "data": {
      "text/plain": [
       "Ind_ID                     0\n",
       "Test_date                  0\n",
       "Cough_symptoms             0\n",
       "Fever                      0\n",
       "Sore_throat                0\n",
       "Shortness_of_breath        0\n",
       "Headache                   0\n",
       "Corona                     0\n",
       "Gender                 19034\n",
       "Known_contact              0\n",
       "dtype: int64"
      ]
     },
     "execution_count": 97,
     "metadata": {},
     "output_type": "execute_result"
    }
   ],
   "source": [
    "covid_data.isnull().sum()"
   ]
  },
  {
   "cell_type": "code",
   "execution_count": 98,
   "id": "23ee0449",
   "metadata": {},
   "outputs": [],
   "source": [
    "imputed_data = covid_data.copy(deep=True)"
   ]
  },
  {
   "cell_type": "code",
   "execution_count": 99,
   "id": "46edd756",
   "metadata": {},
   "outputs": [],
   "source": [
    "# applying KNN imputation\n",
    "knn=KNNImputer(n_neighbors=5,weights='uniform')\n",
    "columns=['Cough_symptoms', 'Fever', 'Sore_throat','Shortness_of_breath', 'Headache','Gender','Known_contact']\n",
    "imputed=knn.fit_transform(covid_data[columns])"
   ]
  },
  {
   "cell_type": "code",
   "execution_count": 100,
   "id": "c967090c",
   "metadata": {},
   "outputs": [],
   "source": [
    "df=pandas.DataFrame(imputed,columns=columns)"
   ]
  },
  {
   "cell_type": "code",
   "execution_count": 101,
   "id": "220e8d4c",
   "metadata": {},
   "outputs": [],
   "source": [
    "def change(x):\n",
    "    if x>0.5:\n",
    "        return 1\n",
    "    elif x<0.5:\n",
    "        return 0\n",
    "    else:\n",
    "        return x"
   ]
  },
  {
   "cell_type": "code",
   "execution_count": 102,
   "id": "71f41603",
   "metadata": {},
   "outputs": [],
   "source": [
    "df['Gender'] = df['Gender'].apply(change)"
   ]
  },
  {
   "cell_type": "code",
   "execution_count": 103,
   "id": "d0a5d675",
   "metadata": {},
   "outputs": [],
   "source": [
    "imputed_data['Gender'].iloc[:] =df['Gender']"
   ]
  },
  {
   "cell_type": "code",
   "execution_count": 104,
   "id": "182c25e8",
   "metadata": {},
   "outputs": [
    {
     "data": {
      "text/html": [
       "<div>\n",
       "<style scoped>\n",
       "    .dataframe tbody tr th:only-of-type {\n",
       "        vertical-align: middle;\n",
       "    }\n",
       "\n",
       "    .dataframe tbody tr th {\n",
       "        vertical-align: top;\n",
       "    }\n",
       "\n",
       "    .dataframe thead th {\n",
       "        text-align: right;\n",
       "    }\n",
       "</style>\n",
       "<table border=\"1\" class=\"dataframe\">\n",
       "  <thead>\n",
       "    <tr style=\"text-align: right;\">\n",
       "      <th></th>\n",
       "      <th>Ind_ID</th>\n",
       "      <th>Test_date</th>\n",
       "      <th>Cough_symptoms</th>\n",
       "      <th>Fever</th>\n",
       "      <th>Sore_throat</th>\n",
       "      <th>Shortness_of_breath</th>\n",
       "      <th>Headache</th>\n",
       "      <th>Corona</th>\n",
       "      <th>Gender</th>\n",
       "      <th>Known_contact</th>\n",
       "    </tr>\n",
       "  </thead>\n",
       "  <tbody>\n",
       "    <tr>\n",
       "      <th>0</th>\n",
       "      <td>1</td>\n",
       "      <td>11-03-2020</td>\n",
       "      <td>1</td>\n",
       "      <td>0</td>\n",
       "      <td>1</td>\n",
       "      <td>0</td>\n",
       "      <td>0</td>\n",
       "      <td>0</td>\n",
       "      <td>0</td>\n",
       "      <td>0</td>\n",
       "    </tr>\n",
       "    <tr>\n",
       "      <th>1</th>\n",
       "      <td>2</td>\n",
       "      <td>11-03-2020</td>\n",
       "      <td>0</td>\n",
       "      <td>1</td>\n",
       "      <td>0</td>\n",
       "      <td>0</td>\n",
       "      <td>0</td>\n",
       "      <td>1</td>\n",
       "      <td>0</td>\n",
       "      <td>0</td>\n",
       "    </tr>\n",
       "    <tr>\n",
       "      <th>2</th>\n",
       "      <td>3</td>\n",
       "      <td>11-03-2020</td>\n",
       "      <td>0</td>\n",
       "      <td>1</td>\n",
       "      <td>0</td>\n",
       "      <td>0</td>\n",
       "      <td>0</td>\n",
       "      <td>1</td>\n",
       "      <td>0</td>\n",
       "      <td>0</td>\n",
       "    </tr>\n",
       "    <tr>\n",
       "      <th>3</th>\n",
       "      <td>4</td>\n",
       "      <td>11-03-2020</td>\n",
       "      <td>1</td>\n",
       "      <td>0</td>\n",
       "      <td>0</td>\n",
       "      <td>0</td>\n",
       "      <td>0</td>\n",
       "      <td>0</td>\n",
       "      <td>0</td>\n",
       "      <td>0</td>\n",
       "    </tr>\n",
       "    <tr>\n",
       "      <th>4</th>\n",
       "      <td>5</td>\n",
       "      <td>11-03-2020</td>\n",
       "      <td>1</td>\n",
       "      <td>0</td>\n",
       "      <td>0</td>\n",
       "      <td>0</td>\n",
       "      <td>0</td>\n",
       "      <td>0</td>\n",
       "      <td>0</td>\n",
       "      <td>1</td>\n",
       "    </tr>\n",
       "  </tbody>\n",
       "</table>\n",
       "</div>"
      ],
      "text/plain": [
       "   Ind_ID   Test_date  Cough_symptoms  Fever  Sore_throat  \\\n",
       "0       1  11-03-2020               1      0            1   \n",
       "1       2  11-03-2020               0      1            0   \n",
       "2       3  11-03-2020               0      1            0   \n",
       "3       4  11-03-2020               1      0            0   \n",
       "4       5  11-03-2020               1      0            0   \n",
       "\n",
       "   Shortness_of_breath  Headache  Corona Gender Known_contact  \n",
       "0                    0         0       0      0             0  \n",
       "1                    0         0       1      0             0  \n",
       "2                    0         0       1      0             0  \n",
       "3                    0         0       0      0             0  \n",
       "4                    0         0       0      0             1  "
      ]
     },
     "execution_count": 104,
     "metadata": {},
     "output_type": "execute_result"
    }
   ],
   "source": [
    "imputed_data.head()"
   ]
  },
  {
   "cell_type": "code",
   "execution_count": 105,
   "id": "532fe36e",
   "metadata": {},
   "outputs": [
    {
     "name": "stdout",
     "output_type": "stream",
     "text": [
      "<class 'pandas.core.frame.DataFrame'>\n",
      "Int64Index: 274702 entries, 0 to 278847\n",
      "Data columns (total 10 columns):\n",
      " #   Column               Non-Null Count   Dtype   \n",
      "---  ------               --------------   -----   \n",
      " 0   Ind_ID               274702 non-null  int64   \n",
      " 1   Test_date            274702 non-null  object  \n",
      " 2   Cough_symptoms       274702 non-null  uint8   \n",
      " 3   Fever                274702 non-null  uint8   \n",
      " 4   Sore_throat          274702 non-null  uint8   \n",
      " 5   Shortness_of_breath  274702 non-null  uint8   \n",
      " 6   Headache             274702 non-null  uint8   \n",
      " 7   Corona               274702 non-null  uint8   \n",
      " 8   Gender               274702 non-null  category\n",
      " 9   Known_contact        274702 non-null  category\n",
      "dtypes: category(2), int64(1), object(1), uint8(6)\n",
      "memory usage: 8.4+ MB\n"
     ]
    }
   ],
   "source": [
    "imputed_data.info()"
   ]
  },
  {
   "cell_type": "code",
   "execution_count": 106,
   "id": "127e5113",
   "metadata": {},
   "outputs": [],
   "source": [
    "imputed_data['Gender'] = imputed_data['Gender'].astype('uint8') "
   ]
  },
  {
   "cell_type": "code",
   "execution_count": 107,
   "id": "694e2454",
   "metadata": {},
   "outputs": [],
   "source": [
    "final_data = imputed_data.astype('category')"
   ]
  },
  {
   "cell_type": "code",
   "execution_count": 108,
   "id": "23a4a448",
   "metadata": {},
   "outputs": [
    {
     "name": "stdout",
     "output_type": "stream",
     "text": [
      "<class 'pandas.core.frame.DataFrame'>\n",
      "Int64Index: 274702 entries, 0 to 278847\n",
      "Data columns (total 10 columns):\n",
      " #   Column               Non-Null Count   Dtype   \n",
      "---  ------               --------------   -----   \n",
      " 0   Ind_ID               274702 non-null  category\n",
      " 1   Test_date            274702 non-null  category\n",
      " 2   Cough_symptoms       274702 non-null  category\n",
      " 3   Fever                274702 non-null  category\n",
      " 4   Sore_throat          274702 non-null  category\n",
      " 5   Shortness_of_breath  274702 non-null  category\n",
      " 6   Headache             274702 non-null  category\n",
      " 7   Corona               274702 non-null  category\n",
      " 8   Gender               274702 non-null  category\n",
      " 9   Known_contact        274702 non-null  category\n",
      "dtypes: category(10)\n",
      "memory usage: 15.7 MB\n"
     ]
    }
   ],
   "source": [
    "final_data.info()"
   ]
  },
  {
   "cell_type": "code",
   "execution_count": 109,
   "id": "80f00fef",
   "metadata": {},
   "outputs": [
    {
     "data": {
      "text/html": [
       "<div>\n",
       "<style scoped>\n",
       "    .dataframe tbody tr th:only-of-type {\n",
       "        vertical-align: middle;\n",
       "    }\n",
       "\n",
       "    .dataframe tbody tr th {\n",
       "        vertical-align: top;\n",
       "    }\n",
       "\n",
       "    .dataframe thead th {\n",
       "        text-align: right;\n",
       "    }\n",
       "</style>\n",
       "<table border=\"1\" class=\"dataframe\">\n",
       "  <thead>\n",
       "    <tr style=\"text-align: right;\">\n",
       "      <th></th>\n",
       "      <th>Ind_ID</th>\n",
       "      <th>Test_date</th>\n",
       "      <th>Cough_symptoms</th>\n",
       "      <th>Fever</th>\n",
       "      <th>Sore_throat</th>\n",
       "      <th>Shortness_of_breath</th>\n",
       "      <th>Headache</th>\n",
       "      <th>Corona</th>\n",
       "      <th>Gender</th>\n",
       "      <th>Known_contact</th>\n",
       "    </tr>\n",
       "  </thead>\n",
       "  <tbody>\n",
       "    <tr>\n",
       "      <th>0</th>\n",
       "      <td>1</td>\n",
       "      <td>11-03-2020</td>\n",
       "      <td>1</td>\n",
       "      <td>0</td>\n",
       "      <td>1</td>\n",
       "      <td>0</td>\n",
       "      <td>0</td>\n",
       "      <td>0</td>\n",
       "      <td>0</td>\n",
       "      <td>0</td>\n",
       "    </tr>\n",
       "    <tr>\n",
       "      <th>1</th>\n",
       "      <td>2</td>\n",
       "      <td>11-03-2020</td>\n",
       "      <td>0</td>\n",
       "      <td>1</td>\n",
       "      <td>0</td>\n",
       "      <td>0</td>\n",
       "      <td>0</td>\n",
       "      <td>1</td>\n",
       "      <td>0</td>\n",
       "      <td>0</td>\n",
       "    </tr>\n",
       "    <tr>\n",
       "      <th>2</th>\n",
       "      <td>3</td>\n",
       "      <td>11-03-2020</td>\n",
       "      <td>0</td>\n",
       "      <td>1</td>\n",
       "      <td>0</td>\n",
       "      <td>0</td>\n",
       "      <td>0</td>\n",
       "      <td>1</td>\n",
       "      <td>0</td>\n",
       "      <td>0</td>\n",
       "    </tr>\n",
       "    <tr>\n",
       "      <th>3</th>\n",
       "      <td>4</td>\n",
       "      <td>11-03-2020</td>\n",
       "      <td>1</td>\n",
       "      <td>0</td>\n",
       "      <td>0</td>\n",
       "      <td>0</td>\n",
       "      <td>0</td>\n",
       "      <td>0</td>\n",
       "      <td>0</td>\n",
       "      <td>0</td>\n",
       "    </tr>\n",
       "    <tr>\n",
       "      <th>4</th>\n",
       "      <td>5</td>\n",
       "      <td>11-03-2020</td>\n",
       "      <td>1</td>\n",
       "      <td>0</td>\n",
       "      <td>0</td>\n",
       "      <td>0</td>\n",
       "      <td>0</td>\n",
       "      <td>0</td>\n",
       "      <td>0</td>\n",
       "      <td>1</td>\n",
       "    </tr>\n",
       "  </tbody>\n",
       "</table>\n",
       "</div>"
      ],
      "text/plain": [
       "   Ind_ID   Test_date  Cough_symptoms  Fever  Sore_throat  \\\n",
       "0       1  11-03-2020               1      0            1   \n",
       "1       2  11-03-2020               0      1            0   \n",
       "2       3  11-03-2020               0      1            0   \n",
       "3       4  11-03-2020               1      0            0   \n",
       "4       5  11-03-2020               1      0            0   \n",
       "\n",
       "   Shortness_of_breath  Headache  Corona  Gender Known_contact  \n",
       "0                    0         0       0       0             0  \n",
       "1                    0         0       1       0             0  \n",
       "2                    0         0       1       0             0  \n",
       "3                    0         0       0       0             0  \n",
       "4                    0         0       0       0             1  "
      ]
     },
     "execution_count": 109,
     "metadata": {},
     "output_type": "execute_result"
    }
   ],
   "source": [
    "imputed_data.head()"
   ]
  },
  {
   "cell_type": "code",
   "execution_count": 110,
   "id": "46c88a88",
   "metadata": {},
   "outputs": [],
   "source": [
    "# separating features and target\n",
    "features = final_data.drop(['Ind_ID','Test_date','Corona'],axis=1)\n",
    "target = final_data['Corona']"
   ]
  },
  {
   "cell_type": "code",
   "execution_count": 111,
   "id": "0a313ee7",
   "metadata": {},
   "outputs": [
    {
     "name": "stdout",
     "output_type": "stream",
     "text": [
      "Index(['Cough_symptoms', 'Fever', 'Sore_throat', 'Shortness_of_breath',\n",
      "       'Headache', 'Known_contact'],\n",
      "      dtype='object')\n"
     ]
    }
   ],
   "source": [
    "# chi2 method to select important k best features\n",
    "\n",
    "selector = SelectKBest(score_func=chi2, k=6)\n",
    "X_new = selector.fit_transform(features, target)\n",
    "\n",
    "idxs_selected = selector.get_support(indices=True)\n",
    "\n",
    "feat_names = features.columns[idxs_selected]\n",
    "\n",
    "print(feat_names)"
   ]
  },
  {
   "cell_type": "code",
   "execution_count": 112,
   "id": "c6c9fbea",
   "metadata": {},
   "outputs": [],
   "source": [
    "# splitting train test set\n",
    "x_train,x_test,y_train,y_test = train_test_split(features,target,test_size=0.3,random_state=42)"
   ]
  },
  {
   "cell_type": "code",
   "execution_count": 113,
   "id": "a636b042",
   "metadata": {},
   "outputs": [
    {
     "data": {
      "text/plain": [
       "0    78054\n",
       "1     4357\n",
       "Name: Corona, dtype: int64"
      ]
     },
     "execution_count": 113,
     "metadata": {},
     "output_type": "execute_result"
    }
   ],
   "source": [
    "y_test.value_counts()"
   ]
  },
  {
   "cell_type": "code",
   "execution_count": 114,
   "id": "59700908",
   "metadata": {},
   "outputs": [
    {
     "data": {
      "text/plain": [
       "0    181954\n",
       "1     10337\n",
       "Name: Corona, dtype: int64"
      ]
     },
     "execution_count": 114,
     "metadata": {},
     "output_type": "execute_result"
    }
   ],
   "source": [
    "y_train.value_counts()"
   ]
  },
  {
   "cell_type": "code",
   "execution_count": null,
   "id": "7d3189cf",
   "metadata": {},
   "outputs": [],
   "source": []
  }
 ],
 "metadata": {
  "kernelspec": {
   "display_name": "Python 3 (ipykernel)",
   "language": "python",
   "name": "python3"
  },
  "language_info": {
   "codemirror_mode": {
    "name": "ipython",
    "version": 3
   },
   "file_extension": ".py",
   "mimetype": "text/x-python",
   "name": "python",
   "nbconvert_exporter": "python",
   "pygments_lexer": "ipython3",
   "version": "3.10.9"
  }
 },
 "nbformat": 4,
 "nbformat_minor": 5
}
